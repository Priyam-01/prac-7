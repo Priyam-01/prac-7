{
 "cells": [
  {
   "cell_type": "code",
   "execution_count": 1,
   "id": "13c52647",
   "metadata": {},
   "outputs": [],
   "source": [
    "#Operators"
   ]
  },
  {
   "cell_type": "code",
   "execution_count": 2,
   "id": "e02bf292",
   "metadata": {},
   "outputs": [],
   "source": [
    "#Arithmetic\n",
    "a =5\n",
    "b=2"
   ]
  },
  {
   "cell_type": "code",
   "execution_count": 3,
   "id": "d5f3cb4d",
   "metadata": {},
   "outputs": [
    {
     "name": "stdout",
     "output_type": "stream",
     "text": [
      "7\n",
      "3\n",
      "2.5\n",
      "1\n",
      "2\n",
      "10\n"
     ]
    }
   ],
   "source": [
    "print(a+b)\n",
    "print(a-b)\n",
    "print(a/b)\n",
    "print(a%b) # modulus -- gives remainder\n",
    "print(a//b) # Floor division geives quotient\n",
    "print(a*b)"
   ]
  },
  {
   "cell_type": "code",
   "execution_count": 4,
   "id": "24c0c897",
   "metadata": {},
   "outputs": [],
   "source": [
    "# Relational Operator\n",
    "a= 5\n",
    "b= 4"
   ]
  },
  {
   "cell_type": "code",
   "execution_count": 5,
   "id": "93188755",
   "metadata": {},
   "outputs": [
    {
     "name": "stdout",
     "output_type": "stream",
     "text": [
      "False\n",
      "True\n",
      "True\n",
      "True\n",
      "False\n",
      "False\n"
     ]
    }
   ],
   "source": [
    "print(a == b)\n",
    "print(a != b)\n",
    "print(a>b)\n",
    "print(a>=b)\n",
    "print(a<b)\n",
    "print(a<=b)"
   ]
  },
  {
   "cell_type": "code",
   "execution_count": 6,
   "id": "22ceb514",
   "metadata": {},
   "outputs": [],
   "source": [
    "a = 5\n",
    "b= \"5\""
   ]
  },
  {
   "cell_type": "code",
   "execution_count": 7,
   "id": "8eb13d1d",
   "metadata": {},
   "outputs": [
    {
     "name": "stdout",
     "output_type": "stream",
     "text": [
      "False\n"
     ]
    }
   ],
   "source": [
    "print(a == b)"
   ]
  },
  {
   "cell_type": "code",
   "execution_count": 8,
   "id": "2c5fe97b",
   "metadata": {},
   "outputs": [],
   "source": [
    "# Assignment Operator"
   ]
  },
  {
   "cell_type": "code",
   "execution_count": 9,
   "id": "74835164",
   "metadata": {},
   "outputs": [
    {
     "name": "stdout",
     "output_type": "stream",
     "text": [
      "8\n"
     ]
    }
   ],
   "source": [
    "a= 5\n",
    "a = a + 3\n",
    "print(a)"
   ]
  },
  {
   "cell_type": "code",
   "execution_count": 11,
   "id": "dd799f7f",
   "metadata": {},
   "outputs": [
    {
     "name": "stdout",
     "output_type": "stream",
     "text": [
      "8\n"
     ]
    }
   ],
   "source": [
    "a = 5\n",
    "a += 3\n",
    "print(a)"
   ]
  },
  {
   "cell_type": "code",
   "execution_count": 12,
   "id": "196093ea",
   "metadata": {},
   "outputs": [],
   "source": [
    "# logical opertaor\n",
    "# and or not"
   ]
  },
  {
   "cell_type": "code",
   "execution_count": 13,
   "id": "d1a64979",
   "metadata": {},
   "outputs": [
    {
     "name": "stdout",
     "output_type": "stream",
     "text": [
      "True\n",
      "False\n"
     ]
    }
   ],
   "source": [
    "print(True and True)\n",
    "print(True and False)\n",
    "    "
   ]
  },
  {
   "cell_type": "code",
   "execution_count": 15,
   "id": "5d00d5be",
   "metadata": {},
   "outputs": [
    {
     "name": "stdout",
     "output_type": "stream",
     "text": [
      "True\n",
      "False\n"
     ]
    }
   ],
   "source": [
    "print(True or True)\n",
    "print(True and False)"
   ]
  },
  {
   "cell_type": "code",
   "execution_count": 16,
   "id": "40244ab4",
   "metadata": {},
   "outputs": [
    {
     "name": "stdout",
     "output_type": "stream",
     "text": [
      "False\n"
     ]
    }
   ],
   "source": [
    "print(not True)"
   ]
  },
  {
   "cell_type": "code",
   "execution_count": 17,
   "id": "a173b2f1",
   "metadata": {},
   "outputs": [],
   "source": [
    "#loops\n",
    "#if for while"
   ]
  },
  {
   "cell_type": "code",
   "execution_count": 18,
   "id": "a4f43bec",
   "metadata": {},
   "outputs": [],
   "source": [
    "#conditional statement"
   ]
  },
  {
   "cell_type": "code",
   "execution_count": 19,
   "id": "d46d125f",
   "metadata": {},
   "outputs": [
    {
     "name": "stdout",
     "output_type": "stream",
     "text": [
      "Yes\n"
     ]
    }
   ],
   "source": [
    "name = \"Python\"\n",
    "if name == \"Python\":\n",
    "    print(\"Yes\")"
   ]
  },
  {
   "cell_type": "code",
   "execution_count": 22,
   "id": "eb23c996",
   "metadata": {},
   "outputs": [
    {
     "name": "stdout",
     "output_type": "stream",
     "text": [
      "No\n"
     ]
    }
   ],
   "source": [
    "name = \"Hello\"\n",
    "if name == \"Python\":\n",
    "    print(\"Yes\")\n",
    "else:\n",
    "    print(\"No\")"
   ]
  },
  {
   "cell_type": "code",
   "execution_count": 23,
   "id": "a46ff82a",
   "metadata": {},
   "outputs": [],
   "source": [
    "name = \"sachin\"\n",
    "mark = 65"
   ]
  },
  {
   "cell_type": "code",
   "execution_count": 24,
   "id": "55119fe5",
   "metadata": {},
   "outputs": [
    {
     "name": "stdout",
     "output_type": "stream",
     "text": [
      "pass\n"
     ]
    }
   ],
   "source": [
    "if name == \"sachin\" and mark > 50:\n",
    "    print(\"pass\")\n",
    "elif name == \"sachin\" and mark > 60:\n",
    "    print(\"Disctinction\")\n",
    "else:\n",
    "    print(\"fail\")\n",
    "        "
   ]
  },
  {
   "cell_type": "code",
   "execution_count": 25,
   "id": "f6a5e6ff",
   "metadata": {},
   "outputs": [
    {
     "name": "stdout",
     "output_type": "stream",
     "text": [
      "pass\n",
      "Disctinction\n"
     ]
    }
   ],
   "source": [
    "if name == \"sachin\" and mark > 50:\n",
    "    print(\"pass\")\n",
    "if name == \"sachin\" and mark > 60:\n",
    "    print(\"Disctinction\")\n",
    "else:\n",
    "    print(\"fail\")"
   ]
  },
  {
   "cell_type": "code",
   "execution_count": 27,
   "id": "7254c288",
   "metadata": {},
   "outputs": [],
   "source": [
    "# multiple if condition"
   ]
  },
  {
   "cell_type": "code",
   "execution_count": 29,
   "id": "49116b5f",
   "metadata": {},
   "outputs": [
    {
     "name": "stdout",
     "output_type": "stream",
     "text": [
      "name is not sachin\n"
     ]
    }
   ],
   "source": [
    "name = \"Python\"\n",
    "if name == \"sachin\":\n",
    "    if mark > 50:\n",
    "        if mark > 60:\n",
    "            print(\"Dist\")\n",
    "        else:\n",
    "            print(\"first grade\")\n",
    "            \n",
    "    else:\n",
    "        print(\"fail\")\n",
    "else:\n",
    "    print(\"name is not sachin\")"
   ]
  },
  {
   "cell_type": "code",
   "execution_count": 31,
   "id": "c30c194e",
   "metadata": {},
   "outputs": [],
   "source": [
    "#get input from user and check the data type , if it is string , check its is alphabet or numbr\n",
    "\n",
    "#123\n",
    "#string\n",
    "#digit\n",
    "\n",
    "#sachin\n",
    "#string\n",
    "#aplhabet\n",
    "\n",
    "#sachin123\n",
    "#string\n",
    "#not a digit , not a alphabet\n",
    "\n",
    "# xxxxxxxxxxxxxxxx\n",
    "\n",
    "# Take two inpus from user for traffic light and police and print the respective output for it\n",
    "#traffic ligt -> red/green/yellow\n",
    "#police -> yes/no\n",
    "\n",
    "# police yes, singal is red stop\n",
    "# police no, singal is red go\n",
    "# police yes, singal is yellow slow down\n",
    "# police no, singal is yellow go\n",
    "#signal green , go"
   ]
  },
  {
   "cell_type": "code",
   "execution_count": 21,
   "id": "4740221e",
   "metadata": {},
   "outputs": [
    {
     "name": "stdout",
     "output_type": "stream",
     "text": [
      "Enter something: 45\n",
      "<class 'str'>\n",
      "Input contains digits 45\n"
     ]
    }
   ],
   "source": [
    "#get input from user and check the data type , if it is string , check its is alphabet or numbr\n",
    "\n",
    "#123\n",
    "#string\n",
    "#digit\n",
    "\n",
    "#sachin\n",
    "#string\n",
    "#aplhabet\n",
    "\n",
    "#sachin123\n",
    "#string\n",
    "#not a digit , not a alphabet\n",
    "\n",
    "a = input(\"Enter something: \")\n",
    "print(type(a))\n",
    "\n",
    "if a.isalpha():\n",
    "    print(\"Input contains alphabet character\", a)\n",
    "elif a.isdigit():\n",
    "    print(\"Input contains digits\", a)\n",
    "else:\n",
    "    print(\"Input contains alphanumeric character\", a)"
   ]
  },
  {
   "cell_type": "code",
   "execution_count": 2,
   "id": "36b5088d",
   "metadata": {},
   "outputs": [],
   "source": [
    "# Take two inpus from user for traffic light and police and print the respective output for it\n",
    "#traffic ligt -> red/green/yellow\n",
    "#police -> yes/no\n",
    "\n",
    "# police yes, singal is red stop\n",
    "# police no, singal is red go\n",
    "# police yes, singal is yellow slow down\n",
    "# police no, singal is yellow go\n",
    "#signal green , go"
   ]
  },
  {
   "cell_type": "code",
   "execution_count": 17,
   "id": "6a2e26ac",
   "metadata": {},
   "outputs": [
    {
     "name": "stdout",
     "output_type": "stream",
     "text": [
      "Enter Yes or No: Yes\n",
      "Select red, green or yellow: Red\n",
      "Hey! Slowdown\n"
     ]
    }
   ],
   "source": [
    "\n",
    "police = input(\"Enter Yes or No: \")\n",
    "traffic_light_signal = input(\"Select red, green or yellow: \")\n",
    "traffic_light_signal_lower = traffic_light.lower()\n",
    "police_lower = police.lower()\n",
    "\n",
    "if police_lower == \"yes\" or police_lower == \"no\":\n",
    "    if traffic_light_signal_lower == \"red\" or traffic_light_signal_lower == \"yellow\" or traffic_light_signal_lower == \"yellow\":\n",
    "        if police_lower ==\"yes\" and traffic_light_signal_lower == \"red\":\n",
    "            print(\"Hey Stop!\")\n",
    "        elif police_lower == \"no\" and traffic_light_signal_lower ==\"red\":\n",
    "            print(\"Hey! You can go..\")\n",
    "        elif police_lower == \"yes\" and traffic_light_signal_lower == \"yellow\":\n",
    "            print(\"Hey! Slowdown\")\n",
    "        elif police_lower == \"no\" and traffic_light_signal_lower == \"yellow\":\n",
    "            print(\"Hey! You can go..\")\n",
    "        else:\n",
    "            print(\"Signal is Green you can go...\")\n",
    "    else:\n",
    "        print(\"Input should be Red, Green or Yellow\")\n",
    "else:\n",
    "    print(\"Input should be Yes or No\")\n",
    "    \n",
    "    \n"
   ]
  },
  {
   "cell_type": "code",
   "execution_count": 16,
   "id": "fe383340",
   "metadata": {},
   "outputs": [
    {
     "name": "stdout",
     "output_type": "stream",
     "text": [
      "Enter Yes or No: ytg\n",
      "Select red, green or yellow: ghg\n",
      "Input should be Yes or No\n"
     ]
    }
   ],
   "source": [
    "police = input(\"Enter Yes or No: \")\n",
    "traffic_light_signal = input(\"Select red, green or yellow: \")\n",
    "traffic_light_signal_lower = traffic_light_signal.lower()\n",
    "police_lower = police.lower()\n",
    "\n",
    "if police_lower == \"yes\" or police_lower == \"no\":\n",
    "    if traffic_light_signal_lower == \"red\" or traffic_light_signal_lower == \"yellow\" or traffic_light_signal_lower == \"green\":\n",
    "        if police_lower == \"yes\" and traffic_light_signal_lower == \"red\":\n",
    "            print(\"Hey Stop!\")\n",
    "        elif police_lower == \"no\" and traffic_light_signal_lower == \"red\":\n",
    "            print(\"Hey! You can go..\")\n",
    "        elif police_lower == \"yes\" and traffic_light_signal_lower == \"yellow\":\n",
    "            print(\"Hey! Slowdown\")\n",
    "        elif police_lower == \"no\" and traffic_light_signal_lower == \"yellow\":\n",
    "            print(\"Hey! You can go..\")\n",
    "        else:\n",
    "            print(\"Signal is Green you can go...\")\n",
    "    else:\n",
    "        print(\"Input should be Red, Green or Yellow\")\n",
    "else:\n",
    "    print(\"Input should be Yes or No\")\n"
   ]
  },
  {
   "cell_type": "code",
   "execution_count": null,
   "id": "b607ef97",
   "metadata": {},
   "outputs": [],
   "source": [
    "police = input(\"Enter Yes or No: \").lower()\n",
    "if police in (\"yes\", \"no\"):\n",
    "    traffic_light_signal = input(\"Select red, green or yellow: \").lower()\n",
    "    if traffic_light_signal in (\"red\", \"yellow\", \"green\"):\n",
    "        if police == \"yes\" and traffic_light_signal == \"red\":\n",
    "            print(\"Hey Stop!\")\n",
    "        elif police == \"no\" and traffic_light_signal == \"red\":\n",
    "            print(\"Hey! You can go..\")\n",
    "        elif police == \"yes\" and traffic_light_signal == \"yellow\":\n",
    "            print(\"Hey! Slowdown\")\n",
    "        elif police == \"no\" and traffic_light_signal == \"yellow\":\n",
    "            print(\"Hey! You can go..\")\n",
    "        else:\n",
    "            print(\"Signal is Green you can go...\")\n",
    "    else:\n",
    "        print(\"Signal color should be Red, Green or Yellow\")\n",
    "else:\n",
    "    print(\"Input should be Yes or No\")\n"
   ]
  },
  {
   "cell_type": "code",
   "execution_count": null,
   "id": "f06d6dfe",
   "metadata": {},
   "outputs": [],
   "source": [
    "police = input(\"Enter Yes or No: \").lower()\n",
    "if police in (\"yes\", \"no\"):\n",
    "    traffic_light_signal = input(\"Select red, green or yellow: \").lower()\n",
    "    if traffic_light_signal in (\"red\", \"yellow\", \"green\"):\n",
    "        if police == \"yes\" and traffic_light_signal == \"red\":\n",
    "            print(\"Hey Stop!\")\n",
    "        elif police == \"no\" and traffic_light_signal == \"red\":\n",
    "            print(\"Hey! You can go..\")\n",
    "        elif police == \"yes\" and traffic_light_signal == \"yellow\":\n",
    "            print(\"Hey! Slowdown\")\n",
    "        elif police == \"no\" and traffic_light_signal == \"yellow\":\n",
    "            print(\"Hey! You can go..\")\n",
    "        else:\n",
    "            print(\"Signal is Green you can go...\")\n",
    "    else:\n",
    "        print(\"Signal color should be Red, Green or Yellow\")\n",
    "else:\n",
    "    print(\"Input should be Yes or No\")\n"
   ]
  },
  {
   "cell_type": "code",
   "execution_count": 15,
   "id": "ba177414",
   "metadata": {},
   "outputs": [
    {
     "name": "stdout",
     "output_type": "stream",
     "text": [
      "Enter Yes or No: yes\n",
      "Select red, green or yellow: yellow\n",
      "Hey! Slowdown\n"
     ]
    }
   ],
   "source": [
    "\n",
    "police = input(\"Enter Yes or No: \").lower()\n",
    "if police == \"yes\" or police == \"no\":\n",
    "    traffic_light_signal = input(\"Enter red, green or yellow: \").lower()\n",
    "    if traffic_light_signal == \"red\" or traffic_light_signal == \"yellow\" or traffic_light_signal == \"green\":\n",
    "        if police ==\"yes\" and traffic_light_signal == \"red\":\n",
    "            print(\"Hey Stop!\")\n",
    "        elif police == \"no\" and traffic_light_signal ==\"red\":\n",
    "            print(\"Hey! You can go..\")\n",
    "        elif police == \"yes\" and traffic_light_signal == \"yellow\":\n",
    "            print(\"Hey! Slowdown\")\n",
    "        elif police == \"no\" and traffic_light_signal == \"yellow\":\n",
    "            print(\"Hey! You can go..\")\n",
    "        else:\n",
    "            print(\"Signal is Green you can go...\")\n",
    "    else:\n",
    "        print(\"Input should be Red, Green or Yellow\")\n",
    "else:\n",
    "    print(\"Input should be Yes or No\")\n",
    "    \n",
    "    \n"
   ]
  },
  {
   "cell_type": "code",
   "execution_count": null,
   "id": "e7c60f99",
   "metadata": {},
   "outputs": [],
   "source": []
  }
 ],
 "metadata": {
  "kernelspec": {
   "display_name": "Python 3 (ipykernel)",
   "language": "python",
   "name": "python3"
  },
  "language_info": {
   "codemirror_mode": {
    "name": "ipython",
    "version": 3
   },
   "file_extension": ".py",
   "mimetype": "text/x-python",
   "name": "python",
   "nbconvert_exporter": "python",
   "pygments_lexer": "ipython3",
   "version": "3.11.5"
  }
 },
 "nbformat": 4,
 "nbformat_minor": 5
}
